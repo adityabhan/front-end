{
 "cells": [
  {
   "cell_type": "code",
   "execution_count": 8,
   "metadata": {},
   "outputs": [],
   "source": [
    "from datetime import datetime\n",
    "import threading    \n",
    "from tkinter import *\n",
    "from tkinter import messagebox\n",
    "import queue as qu\n",
    "import time\n",
    "import subprocess\n",
    "\n",
    "def getTime():\n",
    "    try:\n",
    "        while t1.isAlive():\n",
    "            date=datetime.now()\n",
    "            print(' getTime is {}'.format(threading.current_thread()))\n",
    "            statusbar.config(text='date {} time {}'.format(date.strftime(\"%Y-%m-%d\"),date.strftime(\"%H: %M: %S\")))\n",
    "            time.sleep(2)\n",
    "        #sendTime.put(date)\n",
    "    finally:\n",
    "        print(\"out of getTime\")\n",
    "        \n",
    "def backButton(event):\n",
    "    t1 = threading.Thread(target=callMain) \n",
    "    t1.start()\n",
    "    \n",
    "def callMain():\n",
    "    root.withdraw()\n",
    "    subprocess.call(\" python gui.py\", shell=True)\n",
    "\n",
    "def checkClose():\n",
    "    while True:\n",
    "        print('checkClose {}'.format(threading.current_thread()))\n",
    "        time.sleep(2)\n",
    "        root.protocol(\"WM_DELETE_WINDOW\", on_closing)\n",
    "\n",
    "\n",
    "def on_closing():\n",
    "    try:\n",
    "        print('onclosing {}'.format(threading.current_thread()))\n",
    "        \n",
    "        var=messagebox.askokcancel(\"Quit\", \"Do you want to quit?\")\n",
    "        print(\"var is {}\".format(var))\n",
    "        if var:\n",
    "            #t1.killed=True\n",
    "            t1.sleep()\n",
    "            statusbar.destroy()\n",
    "            #+time.sleep(3)\n",
    "            root.destroy()\n",
    "    finally:\n",
    "        root.destroy()\n",
    "  "
   ]
  },
  {
   "cell_type": "code",
   "execution_count": 9,
   "metadata": {
    "scrolled": true
   },
   "outputs": [
    {
     "name": "stdout",
     "output_type": "stream",
     "text": [
      " getTime is <Thread(Thread t1, started daemon 152)>\n",
      "onclosing <_MainThread(MainThread, started 4232)>\n",
      " getTime is <Thread(Thread t1, started daemon 152)>\n",
      " getTime is <Thread(Thread t1, started daemon 152)>\n",
      "var is True\n",
      "outside mainloop!!\n"
     ]
    },
    {
     "name": "stderr",
     "output_type": "stream",
     "text": [
      "Exception in Tkinter callback\n",
      "Traceback (most recent call last):\n",
      "  File \"C:\\Users\\core-i3\\Anaconda3\\lib\\tkinter\\__init__.py\", line 1702, in __call__\n",
      "    return self.func(*args)\n",
      "  File \"<ipython-input-8-c39b60f49e6f>\", line 47, in on_closing\n",
      "    root.destroy()\n",
      "  File \"C:\\Users\\core-i3\\Anaconda3\\lib\\tkinter\\__init__.py\", line 2059, in destroy\n",
      "    self.tk.call('destroy', self._w)\n",
      "_tkinter.TclError: can't invoke \"destroy\" command: application has been destroyed\n"
     ]
    },
    {
     "name": "stdout",
     "output_type": "stream",
     "text": [
      " getTime is <Thread(Thread t1, started daemon 152)>\n",
      "out of getTime\n"
     ]
    },
    {
     "name": "stderr",
     "output_type": "stream",
     "text": [
      "Exception in thread Thread t1:\n",
      "Traceback (most recent call last):\n",
      "  File \"C:\\Users\\core-i3\\Anaconda3\\lib\\threading.py\", line 916, in _bootstrap_inner\n",
      "    self.run()\n",
      "  File \"C:\\Users\\core-i3\\Anaconda3\\lib\\threading.py\", line 864, in run\n",
      "    self._target(*self._args, **self._kwargs)\n",
      "  File \"<ipython-input-8-c39b60f49e6f>\", line 14, in getTime\n",
      "    statusbar.config(text='date {} time {}'.format(date.strftime(\"%Y-%m-%d\"),date.strftime(\"%H: %M: %S\")))\n",
      "  File \"C:\\Users\\core-i3\\Anaconda3\\lib\\tkinter\\__init__.py\", line 1482, in configure\n",
      "    return self._configure('configure', cnf, kw)\n",
      "  File \"C:\\Users\\core-i3\\Anaconda3\\lib\\tkinter\\__init__.py\", line 1473, in _configure\n",
      "    self.tk.call(_flatten((self._w, cmd)) + self._options(cnf))\n",
      "RuntimeError: main thread is not in main loop\n",
      "\n"
     ]
    }
   ],
   "source": [
    "\n",
    "root = Tk()\n",
    "root.title('About InVision')\n",
    "rootHeight=480\n",
    "rootWidth=480\n",
    "root.geometry('{}x{}'.format(rootHeight,rootWidth))\n",
    "\n",
    "#root.resizable(width=False, height=False)\n",
    "\n",
    "testString=\"about me!\"\n",
    "label=Label(root,text=testString,font=(\"Courier\", 15))\n",
    "label.pack()\n",
    "\n",
    "backButton=Button(root,text=\"Back\",height =3, width =15,activebackground=\"red\")\n",
    "backButton.bind(\"<Button-1>\",backButton)\n",
    "backButton.pack()\n",
    "\n",
    "\n",
    "statusbar=Label(root,relief=SUNKEN,anchor=W)\n",
    "statusbar.pack(side=BOTTOM,fill=X)\n",
    "\n",
    "#timeQueue=qu.Queue()\n",
    "\n",
    "t1 = threading.Thread(target=getTime) \n",
    "t1.setName(\"Thread t1\")\n",
    "t1.setDaemon(True)\n",
    "t1.start()\n",
    "\n",
    "#to open a messagebox on closing!\n",
    "#t2 = threading.Thread(target=checkClose) \n",
    "#t2.setName(\"Thread t2\")\n",
    "#t2.start()\n",
    "\n",
    "#have to use a loop to update time\n",
    "#while True:\n",
    "#getTime(timeQueue)\n",
    "#v=timeQueue.get(0).strftime(\"%Y-%m-%d %H:%M:%S\")\n",
    "#statusbar.config(text='date and time {}'.format(v))\n",
    "#print(v)\n",
    "    \n",
    "root.protocol(\"WM_DELETE_WINDOW\", on_closing)\n",
    "\n",
    "#Status bar\n",
    "root.mainloop()# main thread is busy here\n",
    "#root.destroy()\n",
    "print(\"outside mainloop!!\")\n",
    "\n",
    "#while t2.isAlive():\n",
    "#    time.sleep(1)\n",
    "#    print(\"main thread running!\")\n",
    "\n",
    "\n",
    "#t1.join()"
   ]
  },
  {
   "cell_type": "code",
   "execution_count": null,
   "metadata": {},
   "outputs": [],
   "source": []
  },
  {
   "cell_type": "code",
   "execution_count": 3,
   "metadata": {},
   "outputs": [
    {
     "name": "stdout",
     "output_type": "stream",
     "text": [
      "21:59:41\n"
     ]
    }
   ],
   "source": [
    "#import time\n",
    "#time_string = time.strftime('%H:%M:%S')\n",
    "#print(time_string)"
   ]
  },
  {
   "cell_type": "code",
   "execution_count": 61,
   "metadata": {},
   "outputs": [
    {
     "name": "stdout",
     "output_type": "stream",
     "text": [
      "Current date and time : \n",
      "2019-04-06 20:52:33\n"
     ]
    }
   ],
   "source": [
    "#import datetime\n",
    "#now = datetime.datetime.now()\n",
    "#print (\"Current date and time : \")\n",
    "#print (now.strftime(\"%Y-%m-%d %H:%M:%S\"))"
   ]
  },
  {
   "cell_type": "code",
   "execution_count": null,
   "metadata": {},
   "outputs": [],
   "source": []
  }
 ],
 "metadata": {
  "kernelspec": {
   "display_name": "Python 3",
   "language": "python",
   "name": "python3"
  },
  "language_info": {
   "codemirror_mode": {
    "name": "ipython",
    "version": 3
   },
   "file_extension": ".py",
   "mimetype": "text/x-python",
   "name": "python",
   "nbconvert_exporter": "python",
   "pygments_lexer": "ipython3",
   "version": "3.6.5"
  }
 },
 "nbformat": 4,
 "nbformat_minor": 2
}
