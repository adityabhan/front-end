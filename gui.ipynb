{
 "cells": [
  {
   "cell_type": "code",
   "execution_count": 1,
   "metadata": {},
   "outputs": [],
   "source": [
    "#import os\n",
    "import subprocess\n",
    "import queue as qu\n",
    "\n",
    "resultQueue=qu.Queue()\n",
    "\n",
    "def Button1(event):\n",
    "    #import imports\n",
    "    t1 = threading.Thread(target=cam) \n",
    "    t1.start()\n",
    "    #t1.join()\n",
    "    #cam()\n",
    "    print(\"1\")\n",
    "    \n",
    "def Button2(event):\n",
    "    #import imports\n",
    "    t1 = threading.Thread(target=check) \n",
    "    t1.start()\n",
    "    print(\"Use on a video\")\n",
    "\n",
    "def Button3(event):\n",
    "    #import imports\n",
    "    t1 = threading.Thread(target=check) \n",
    "    t1.start()\n",
    "    \n",
    "def Button4(event):\n",
    "    #import imports\n",
    "    t1 = threading.Thread(target=chooseFile(resultQueue)) \n",
    "    t1.start()\n",
    "    #t1.join()\n",
    "    #print(resultQueue.get(0))\n",
    "    arg=resultQueue.get(0)\n",
    "    subprocess.call(\" python photoRec.py \"+arg, shell=True)\n",
    "    \n",
    "    #resultQueue.empty..\n",
    "\n",
    "def Button5(event):\n",
    "    #import imports\n",
    "    root.withdraw()\n",
    "    subprocess.call(\" python About.py\", shell=True)\n",
    "    #import opencamera\n",
    "    print(\"Inside about!\")\n",
    "    root.deiconify()\n",
    "    \n",
    "def check():\n",
    "    print(\"Inside check!\")\n",
    "\n",
    "def cam():\n",
    "    #os.system(\"opencamera.py\")\n",
    "    root.withdraw()\n",
    "    subprocess.call(\" python opencamera.py\", shell=True)\n",
    "    #import opencamera\n",
    "    print(\"Inside cam!\")\n",
    "    root.deiconify()\n",
    "    \n",
    "def chooseFile(queue):\n",
    "    #os.system(\"opencamera.py\")\n",
    "    \n",
    "    #subprocess.call(\" python chooseFile.py\", shell=True)\n",
    "    #import opencamera\n",
    "    print(\"choosing file!\")\n",
    "    from tkinter.filedialog import askopenfilename\n",
    "\n",
    "    #Tk().withdraw() # we don't want a full GUI, so keep the root window from appearing\n",
    "    filename = askopenfilename() # show an \"Open\" dialog box and return the path to the selected file\n",
    "    queue.put(str(filename))\n",
    "    "
   ]
  },
  {
   "cell_type": "code",
   "execution_count": 2,
   "metadata": {
    "scrolled": false
   },
   "outputs": [],
   "source": [
    "import threading \n",
    "import tkinter as tk\n",
    "root = tk.Tk()\n",
    "#root.resizable(width=False, height=False)\n",
    "root.title('InVision')\n",
    "rootHeight=560\n",
    "rootWidth=480\n",
    "root.geometry('{}x{}'.format(rootHeight,rootWidth))\n",
    "#root.geometry('{}x{}'.format(460, 350))\n",
    "\n",
    "leftframe = tk.Frame(root, bg='cyan', width=210, height=rootHeight, pady=10)\n",
    "rightframe = tk.Frame(root, bg='blue', width=350, height=rootHeight, pady=10)\n",
    "\n",
    "#center = Frame(root, bg='gray2', width=50, height=40, padx=3, pady=3)\n",
    "#btm_frame = Frame(root, bg='white', width=450, height=45, pady=3)\n",
    "#btm_frame2 = Frame(root, bg='lavender', width=450, height=60, pady=3)\n",
    "\n",
    "root.grid_rowconfigure(0, weight=1)\n",
    "root.grid_columnconfigure(0, weight=1)\n",
    "\n",
    "leftframe.grid(row=0,column=0,sticky=\"w\")\n",
    "rightframe.grid(row=0,column=1,sticky=\"n\")\n",
    "\n",
    "button_1=tk.Button(leftframe,text=\"Start surveillance\",height =3, width =15 ,relief=\"groove\",activebackground=\"yellow\")\n",
    "button_2=tk.Button(leftframe,text=\"Use on a Video\",height =3, width =15,activebackground=\"yellow\" )\n",
    "button_3=tk.Button(leftframe,text=\"Log File\",height =3, width =15,activebackground=\"yellow\")\n",
    "button_4=tk.Button(leftframe,text=\"Use on a Photo\",height =3, width =15,activebackground=\"yellow\")\n",
    "button_5=tk.Button(leftframe,text=\"About\",height =3, width =15,activebackground=\"yellow\")\n",
    "\n",
    "label=tk.Label(leftframe,text=\"INVISION\",height=4,width=15,font=(\"Courier\", 15))\n",
    "\n",
    "#button_1.config( height = 20, width = 23 )\n",
    "button_1.bind(\"<Button-1>\",Button1)\n",
    "button_2.bind(\"<Button-1>\",Button2)\n",
    "button_3.bind(\"<Button-1>\",Button3)\n",
    "button_4.bind(\"<Button-1>\",Button4)\n",
    "button_5.bind(\"<Button-1>\",Button5)\n",
    "\n",
    "\n",
    "label.grid(row=0,column=1,pady=5,padx=5)\n",
    "button_1.grid(row=1, column=1,pady=10,padx=10)\n",
    "button_2.grid(row=2, column=1,pady=10,padx=5)\n",
    "button_3.grid(row=3, column=1,pady=10,padx=5)\n",
    "button_4.grid(row=4, column=1,pady=10,padx=5)\n",
    "button_5.grid(row=5, column=1,pady=10,padx=5)\n",
    "#button_1.pack()\n",
    "#button_2.pack()\n",
    "#button_3.pack()\n",
    "#button_4.pack()\n",
    "#button_5.pack()\n",
    "#leftframe.pack()"
   ]
  },
  {
   "cell_type": "code",
   "execution_count": null,
   "metadata": {
    "scrolled": false
   },
   "outputs": [
    {
     "name": "stdout",
     "output_type": "stream",
     "text": [
      "Inside check!Use on a video\n",
      "\n"
     ]
    }
   ],
   "source": [
    "root.mainloop()"
   ]
  },
  {
   "cell_type": "code",
   "execution_count": null,
   "metadata": {},
   "outputs": [],
   "source": []
  },
  {
   "cell_type": "code",
   "execution_count": null,
   "metadata": {},
   "outputs": [],
   "source": []
  }
 ],
 "metadata": {
  "kernelspec": {
   "display_name": "Python 3",
   "language": "python",
   "name": "python3"
  },
  "language_info": {
   "codemirror_mode": {
    "name": "ipython",
    "version": 3
   },
   "file_extension": ".py",
   "mimetype": "text/x-python",
   "name": "python",
   "nbconvert_exporter": "python",
   "pygments_lexer": "ipython3",
   "version": "3.6.5"
  }
 },
 "nbformat": 4,
 "nbformat_minor": 2
}
